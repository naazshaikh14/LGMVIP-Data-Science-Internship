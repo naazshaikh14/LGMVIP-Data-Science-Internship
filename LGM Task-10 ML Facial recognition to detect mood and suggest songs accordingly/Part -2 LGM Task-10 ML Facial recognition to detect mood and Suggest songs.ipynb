{
 "cells": [
  {
   "cell_type": "markdown",
   "id": "4b34d9ac",
   "metadata": {},
   "source": [
    "# Task -10 ML Facial Recognition To detect Mood and Suggest Songs accordingly"
   ]
  },
  {
   "cell_type": "markdown",
   "id": "73170f2e",
   "metadata": {},
   "source": [
    "# LetsGrowMoe Data Science Intern May 2022"
   ]
  },
  {
   "cell_type": "markdown",
   "id": "4c9f2bd3",
   "metadata": {},
   "source": [
    "# Part 2- Testing Model"
   ]
  },
  {
   "cell_type": "markdown",
   "id": "a3869935",
   "metadata": {},
   "source": [
    "# Installing Libraries"
   ]
  },
  {
   "cell_type": "code",
   "execution_count": 1,
   "id": "73401ca0",
   "metadata": {},
   "outputs": [
    {
     "name": "stdout",
     "output_type": "stream",
     "text": [
      "Requirement already satisfied: mtcnn in c:\\users\\hp\\anaconda3\\lib\\site-packages (0.1.1)Note: you may need to restart the kernel to use updated packages.\n",
      "Requirement already satisfied: opencv-python>=4.1.0 in c:\\users\\hp\\anaconda3\\lib\\site-packages (from mtcnn) (4.5.5.64)\n",
      "Requirement already satisfied: keras>=2.0.0 in c:\\users\\hp\\anaconda3\\lib\\site-packages (from mtcnn) (2.8.0)\n",
      "Requirement already satisfied: numpy>=1.19.3 in c:\\users\\hp\\anaconda3\\lib\\site-packages (from opencv-python>=4.1.0->mtcnn) (1.20.3)\n",
      "\n"
     ]
    }
   ],
   "source": [
    "pip install mtcnn"
   ]
  },
  {
   "cell_type": "code",
   "execution_count": null,
   "id": "9fb14805",
   "metadata": {},
   "outputs": [],
   "source": [
    "import numpy as np\n",
    "import pandas as pd\n",
    "import os\n",
    "import matplotlib.pyplot as plt\n",
    "import warnings\n",
    "warnings.filterwarnings('ignore')\n",
    "from mtcnn import MTCNN\n",
    "from tensorflow.keras.models import load_model"
   ]
  },
  {
   "cell_type": "markdown",
   "id": "b2f9680c",
   "metadata": {},
   "source": [
    "# Loading Model"
   ]
  },
  {
   "cell_type": "code",
   "execution_count": null,
   "id": "fc964273",
   "metadata": {},
   "outputs": [],
   "source": [
    "model = load_model('C:/Users/HP/OneDrive/Desktop/Internship projects/LGMVIP-Data-Science-Internship/model_optimal.h5')\n",
    "print('Model loaded successfully')"
   ]
  },
  {
   "cell_type": "markdown",
   "id": "c82930d1",
   "metadata": {},
   "source": [
    "# Test Image"
   ]
  },
  {
   "cell_type": "code",
   "execution_count": null,
   "id": "bb12360e",
   "metadata": {},
   "outputs": [],
   "source": [
    "img = 'https://static-bebeautiful-in.unileverservices.com/Unlock-flawless-skin_MobileHomeFeature.jpg'\n",
    "try:\n",
    "    image = plt.imread(img)\n",
    "except SyntaxError:\n",
    "    image = plt.imread(img,format = 'jpg')\n",
    "    plt.imshow(image)"
   ]
  },
  {
   "cell_type": "markdown",
   "id": "e542ea70",
   "metadata": {},
   "source": [
    "# Detecting Face"
   ]
  },
  {
   "cell_type": "code",
   "execution_count": null,
   "id": "4c986e08",
   "metadata": {},
   "outputs": [],
   "source": [
    "detect = MTCNN()\n",
    "results = detect.detect_faces(image)\n",
    "x1,y1,width,height = results[0]['box']\n",
    "x2,y2 = x1+width,y1+height\n",
    "\n",
    "face = image[y1:y2,x1:x2]\n",
    "plt.imshow(face)"
   ]
  },
  {
   "cell_type": "markdown",
   "id": "b1ada562",
   "metadata": {},
   "source": [
    "# Resizing Image"
   ]
  },
  {
   "cell_type": "code",
   "execution_count": null,
   "id": "1251defb",
   "metadata": {},
   "outputs": [],
   "source": [
    "test_image = np.resize(face,(224,224,1))"
   ]
  },
  {
   "cell_type": "markdown",
   "id": "ba0e7704",
   "metadata": {},
   "source": [
    "# Predicting"
   ]
  },
  {
   "cell_type": "code",
   "execution_count": null,
   "id": "169db2b6",
   "metadata": {},
   "outputs": [],
   "source": [
    "label_dict = {0:'Angry',1:'Disgust',2:'Fear',3:'Happy',4:'Neutral',5:'Sad',6:'Surprise'}\n",
    "test_img = np.expand_dims(test_image,axis=0)\n",
    "test_img = test_img.reshape(1,224,224,1)\n",
    "result = model.predict(test_img)\n",
    "result = list(result[0])\n",
    "img_index = result.index(max(result))\n",
    "emotion = label_dict[img_index]\n",
    "print(emotion)"
   ]
  },
  {
   "cell_type": "markdown",
   "id": "09d632fe",
   "metadata": {},
   "source": [
    "# Song Suggesting as per mood"
   ]
  },
  {
   "cell_type": "code",
   "execution_count": null,
   "id": "db600ab9",
   "metadata": {},
   "outputs": [],
   "source": [
    "from IPython.display import Audio\n",
    "from IPython.core.display import display\n",
    "def song():\n",
    "    display(Audio('C:/Users/HP/OneDrive/Desktop/Internship projects/LGMVIP-Data-Science-Internship/LGM Task-10 ML Facial recognition to detect mood and suggest songs accordingly/Happy song.mp3',autoplay=True))\n",
    "song();"
   ]
  },
  {
   "cell_type": "code",
   "execution_count": null,
   "id": "c0876796",
   "metadata": {},
   "outputs": [],
   "source": []
  }
 ],
 "metadata": {
  "kernelspec": {
   "display_name": "Python 3 (ipykernel)",
   "language": "python",
   "name": "python3"
  },
  "language_info": {
   "codemirror_mode": {
    "name": "ipython",
    "version": 3
   },
   "file_extension": ".py",
   "mimetype": "text/x-python",
   "name": "python",
   "nbconvert_exporter": "python",
   "pygments_lexer": "ipython3",
   "version": "3.9.7"
  }
 },
 "nbformat": 4,
 "nbformat_minor": 5
}
